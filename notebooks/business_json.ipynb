{
 "cells": [
  {
   "cell_type": "code",
   "execution_count": 1,
   "id": "fitted-characteristic",
   "metadata": {
    "ExecuteTime": {
     "end_time": "2021-03-05T18:15:17.876655Z",
     "start_time": "2021-03-05T18:15:15.331488Z"
    }
   },
   "outputs": [],
   "source": [
    "import numpy as np\n",
    "import pandas as pd\n",
    "import matplotlib.pyplot as plt\n",
    "import seaborn as sns"
   ]
  },
  {
   "cell_type": "code",
   "execution_count": 2,
   "id": "leading-skill",
   "metadata": {
    "ExecuteTime": {
     "end_time": "2021-03-05T18:15:17.889485Z",
     "start_time": "2021-03-05T18:15:17.880085Z"
    }
   },
   "outputs": [],
   "source": [
    "import pandas as pd"
   ]
  },
  {
   "cell_type": "code",
   "execution_count": null,
   "id": "norman-sigma",
   "metadata": {
    "ExecuteTime": {
     "start_time": "2021-03-05T18:15:15.330Z"
    }
   },
   "outputs": [],
   "source": [
    "df = pd.read_json('../raw_data/yelp_academic_dataset_business.json', lines=True)"
   ]
  },
  {
   "cell_type": "code",
   "execution_count": null,
   "id": "collaborative-plasma",
   "metadata": {
    "ExecuteTime": {
     "start_time": "2021-03-05T18:15:15.332Z"
    }
   },
   "outputs": [],
   "source": [
    "df.head()"
   ]
  },
  {
   "cell_type": "code",
   "execution_count": null,
   "id": "unlike-politics",
   "metadata": {
    "ExecuteTime": {
     "start_time": "2021-03-05T18:15:15.334Z"
    }
   },
   "outputs": [],
   "source": [
    "df_2 = df[df['is_open']==1]"
   ]
  },
  {
   "cell_type": "code",
   "execution_count": null,
   "id": "exposed-somewhere",
   "metadata": {
    "ExecuteTime": {
     "start_time": "2021-03-05T18:15:15.336Z"
    }
   },
   "outputs": [],
   "source": [
    "df_2.categories.nunique()"
   ]
  },
  {
   "cell_type": "code",
   "execution_count": null,
   "id": "deadly-volume",
   "metadata": {
    "ExecuteTime": {
     "start_time": "2021-03-05T18:15:15.338Z"
    }
   },
   "outputs": [],
   "source": [
    "df.info()"
   ]
  },
  {
   "cell_type": "code",
   "execution_count": null,
   "id": "complicated-flesh",
   "metadata": {
    "ExecuteTime": {
     "start_time": "2021-03-05T18:15:15.341Z"
    }
   },
   "outputs": [],
   "source": [
    "df.attributes[0]"
   ]
  },
  {
   "cell_type": "code",
   "execution_count": null,
   "id": "hidden-pulse",
   "metadata": {
    "ExecuteTime": {
     "start_time": "2021-03-05T18:15:15.342Z"
    }
   },
   "outputs": [],
   "source": [
    "df_2[df_2.categories.str.contains(\"Restaurants\").isna()]"
   ]
  },
  {
   "cell_type": "code",
   "execution_count": null,
   "id": "gentle-adelaide",
   "metadata": {
    "ExecuteTime": {
     "start_time": "2021-03-05T18:15:15.344Z"
    }
   },
   "outputs": [],
   "source": [
    "df_2.sort_values('review_count', ascending=False).head()"
   ]
  },
  {
   "cell_type": "code",
   "execution_count": null,
   "id": "blind-writer",
   "metadata": {
    "ExecuteTime": {
     "start_time": "2021-03-05T18:15:15.346Z"
    }
   },
   "outputs": [],
   "source": [
    "sns.displot(df['review_count'])\n",
    "plt.xlim(-1,100)"
   ]
  },
  {
   "cell_type": "code",
   "execution_count": null,
   "id": "structural-learning",
   "metadata": {
    "ExecuteTime": {
     "start_time": "2021-03-05T18:15:15.348Z"
    }
   },
   "outputs": [],
   "source": [
    "(df['review_count']>100).sum()"
   ]
  },
  {
   "cell_type": "code",
   "execution_count": null,
   "id": "dependent-match",
   "metadata": {
    "ExecuteTime": {
     "start_time": "2021-03-05T18:15:15.350Z"
    }
   },
   "outputs": [],
   "source": [
    "df['review_count'].count()/2"
   ]
  },
  {
   "cell_type": "code",
   "execution_count": null,
   "id": "conceptual-spain",
   "metadata": {
    "ExecuteTime": {
     "start_time": "2021-03-05T18:15:15.352Z"
    }
   },
   "outputs": [],
   "source": [
    "(df['review_count']<17).sum()"
   ]
  },
  {
   "cell_type": "code",
   "execution_count": null,
   "id": "protecting-congress",
   "metadata": {
    "ExecuteTime": {
     "start_time": "2021-03-05T18:15:15.353Z"
    }
   },
   "outputs": [],
   "source": [
    "df_2.city.value_counts()"
   ]
  },
  {
   "cell_type": "code",
   "execution_count": null,
   "id": "verified-martial",
   "metadata": {
    "ExecuteTime": {
     "start_time": "2021-03-05T18:15:15.358Z"
    }
   },
   "outputs": [],
   "source": [
    "df.state.value_counts()"
   ]
  },
  {
   "cell_type": "code",
   "execution_count": null,
   "id": "working-commitment",
   "metadata": {
    "ExecuteTime": {
     "start_time": "2021-03-05T18:15:15.360Z"
    }
   },
   "outputs": [],
   "source": [
    "df.state.nunique()"
   ]
  },
  {
   "cell_type": "code",
   "execution_count": null,
   "id": "painful-concord",
   "metadata": {
    "ExecuteTime": {
     "start_time": "2021-03-05T18:15:15.369Z"
    }
   },
   "outputs": [],
   "source": [
    "Austin = df_2[df_2['city'] == \"Austin\"]\n",
    "lon = Austin['longitude'].median()\n",
    "lat = Austin['latitude'].median()"
   ]
  },
  {
   "cell_type": "code",
   "execution_count": null,
   "id": "rural-insulin",
   "metadata": {
    "ExecuteTime": {
     "start_time": "2021-03-05T18:15:15.372Z"
    }
   },
   "outputs": [],
   "source": [
    "#Facet scatter plot\n",
    "AustinCoords.plot(kind='scatter', x='longitude', y='latitude',\n",
    "                color='blue', \n",
    "                s=.02, alpha=.6)\n",
    "plt.title(\"Austin\")"
   ]
  },
  {
   "cell_type": "code",
   "execution_count": null,
   "id": "floating-engineering",
   "metadata": {
    "ExecuteTime": {
     "start_time": "2021-03-05T18:15:15.375Z"
    }
   },
   "outputs": [],
   "source": [
    "import imageio\n",
    "import folium\n",
    "import folium.plugins as plugins\n",
    "#from mpl_toolkits.basemap import Basemap"
   ]
  },
  {
   "cell_type": "code",
   "execution_count": null,
   "id": "waiting-boundary",
   "metadata": {
    "ExecuteTime": {
     "start_time": "2021-03-05T18:15:15.377Z"
    }
   },
   "outputs": [],
   "source": [
    "AustinCoords = AustinCoords.sort_values('stars')"
   ]
  },
  {
   "cell_type": "code",
   "execution_count": null,
   "id": "early-lincoln",
   "metadata": {
    "ExecuteTime": {
     "start_time": "2021-03-05T18:15:15.379Z"
    }
   },
   "outputs": [],
   "source": [
    "list(AustinCoords['stars'].unique())"
   ]
  },
  {
   "cell_type": "code",
   "execution_count": null,
   "id": "speaking-camel",
   "metadata": {
    "ExecuteTime": {
     "start_time": "2021-03-05T18:15:15.383Z"
    }
   },
   "outputs": [],
   "source": [
    "data=[]\n",
    "#rearranging data to suit the format needed for folium\n",
    "stars_list=list(AustinCoords['stars'].unique())\n",
    "for star in stars_list:\n",
    "    subset=AustinCoords[AustinCoords['stars']==star]\n",
    "    data.append(subset[['latitude','longitude','stars']].values.tolist())\n",
    "\n",
    "zoom_start=11\n",
    "# basic map\n",
    "m = folium.Map(location=[lat, lon], tiles=\"OpenStreetMap\", zoom_start=zoom_start)\n",
    "#inprovising the Heatmapwith time plugin to show variations across star ratings\n",
    "\n",
    "# hm = plugins.BeautifyIcon(data, icon=icon_square)\n",
    "# hm.add_to(m)\n",
    "# m\n",
    "\n",
    "# for n in range(0, len(data)):\n",
    "#     for point in range(0, len(data[n])):\n",
    "#         folium.Marker(data[n][point][:-1], popup=data[n][point][-1]).add_to(m)\n",
    "# m"
   ]
  },
  {
   "cell_type": "code",
   "execution_count": null,
   "id": "collectible-cleaner",
   "metadata": {
    "ExecuteTime": {
     "start_time": "2021-03-05T18:15:15.385Z"
    }
   },
   "outputs": [],
   "source": []
  },
  {
   "cell_type": "code",
   "execution_count": null,
   "id": "interested-council",
   "metadata": {},
   "outputs": [],
   "source": []
  }
 ],
 "metadata": {
  "kernelspec": {
   "display_name": "Python 3",
   "language": "python",
   "name": "python3"
  },
  "language_info": {
   "codemirror_mode": {
    "name": "ipython",
    "version": 3
   },
   "file_extension": ".py",
   "mimetype": "text/x-python",
   "name": "python",
   "nbconvert_exporter": "python",
   "pygments_lexer": "ipython3",
   "version": "3.8.6"
  },
  "toc": {
   "base_numbering": 1,
   "nav_menu": {},
   "number_sections": true,
   "sideBar": true,
   "skip_h1_title": false,
   "title_cell": "Table of Contents",
   "title_sidebar": "Contents",
   "toc_cell": false,
   "toc_position": {},
   "toc_section_display": true,
   "toc_window_display": false
  }
 },
 "nbformat": 4,
 "nbformat_minor": 5
}
