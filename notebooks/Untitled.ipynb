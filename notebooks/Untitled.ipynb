{
 "cells": [
  {
   "cell_type": "code",
   "execution_count": 1,
   "id": "narrow-convertible",
   "metadata": {
    "ExecuteTime": {
     "end_time": "2021-03-10T17:49:57.792488Z",
     "start_time": "2021-03-10T17:49:54.776480Z"
    }
   },
   "outputs": [],
   "source": [
    "import numpy as np\n",
    "import pandas as pd\n",
    "import matplotlib.pyplot as plt\n",
    "import seaborn as sns"
   ]
  },
  {
   "cell_type": "code",
   "execution_count": 2,
   "id": "unlikely-thread",
   "metadata": {
    "ExecuteTime": {
     "end_time": "2021-03-10T17:49:57.801270Z",
     "start_time": "2021-03-10T17:49:57.795582Z"
    }
   },
   "outputs": [],
   "source": [
    "review_json_path = '../raw_data/yelp_academic_dataset_review.json'"
   ]
  },
  {
   "cell_type": "code",
   "execution_count": 3,
   "id": "armed-confidentiality",
   "metadata": {
    "ExecuteTime": {
     "end_time": "2021-03-10T17:49:57.825468Z",
     "start_time": "2021-03-10T17:49:57.814838Z"
    }
   },
   "outputs": [],
   "source": [
    "size = 1000000\n",
    "review = pd.read_json(review_json_path, lines=True,\n",
    "                      dtype={'review_id':str,'user_id':str,\n",
    "                             'business_id':str,'stars':int,\n",
    "                             'date':str,'text':str,'useful':int,\n",
    "                             'funny':int,'cool':int},\n",
    "                      chunksize=size)"
   ]
  },
  {
   "cell_type": "code",
   "execution_count": 4,
   "id": "white-segment",
   "metadata": {
    "ExecuteTime": {
     "end_time": "2021-03-10T17:50:04.958868Z",
     "start_time": "2021-03-10T17:49:57.832560Z"
    }
   },
   "outputs": [],
   "source": [
    "def get_bus_data():\n",
    "    df = pd.read_json('../raw_data/yelp_academic_dataset_business.json', lines=True)\n",
    "    df_restaurants = df[df['is_open']==1]\n",
    "    df_restaurants = df_restaurants[df_restaurants.categories.notna()]\n",
    "    df_restaurants = df_restaurants[df_restaurants.categories.str.contains(\"Restaurants\")]\n",
    "\n",
    "    df_rest_filter = df_restaurants[(df_restaurants.city == 'Boston') | (df_restaurants.city == 'Westerville')]\n",
    "\n",
    "    return df_rest_filter\n",
    "df_bus = get_bus_data()"
   ]
  },
  {
   "cell_type": "code",
   "execution_count": 5,
   "id": "former-kidney",
   "metadata": {
    "ExecuteTime": {
     "end_time": "2021-03-10T18:08:29.938920Z",
     "start_time": "2021-03-10T17:50:04.961902Z"
    }
   },
   "outputs": [
    {
     "name": "stdout",
     "output_type": "stream",
     "text": [
      "52356 out of 1,000,000 related reviews\n",
      "47037 out of 1,000,000 related reviews\n",
      "43727 out of 1,000,000 related reviews\n",
      "45505 out of 1,000,000 related reviews\n",
      "42311 out of 1,000,000 related reviews\n",
      "46892 out of 1,000,000 related reviews\n",
      "49242 out of 1,000,000 related reviews\n",
      "44836 out of 1,000,000 related reviews\n",
      "35560 out of 1,000,000 related reviews\n"
     ]
    }
   ],
   "source": [
    "chunk_list = []\n",
    "for chunk_review in review:\n",
    "    chunk_review = chunk_review.rename(columns={'stars': 'review_stars'})\n",
    "    chunk_merged = pd.merge(df_bus, chunk_review, on='business_id', how='inner')\n",
    "    print(f\"{chunk_merged.shape[0]} out of {size:,} related reviews\")\n",
    "    chunk_list.append(chunk_merged)\n",
    "\n",
    "df_review = pd.concat(chunk_list, ignore_index=True, join='outer', axis=0)"
   ]
  },
  {
   "cell_type": "code",
   "execution_count": 8,
   "id": "certified-basketball",
   "metadata": {
    "ExecuteTime": {
     "end_time": "2021-03-10T18:31:45.094534Z",
     "start_time": "2021-03-10T18:31:45.039428Z"
    }
   },
   "outputs": [],
   "source": [
    "df_review = df_review[['name','city','review_stars','text']]"
   ]
  },
  {
   "cell_type": "code",
   "execution_count": null,
   "id": "printable-prevention",
   "metadata": {
    "ExecuteTime": {
     "end_time": "2021-03-10T16:09:23.986110Z",
     "start_time": "2021-03-10T16:09:23.967494Z"
    },
    "scrolled": false
   },
   "outputs": [],
   "source": []
  },
  {
   "cell_type": "code",
   "execution_count": null,
   "id": "sealed-palmer",
   "metadata": {},
   "outputs": [],
   "source": []
  }
 ],
 "metadata": {
  "kernelspec": {
   "display_name": "Python 3",
   "language": "python",
   "name": "python3"
  },
  "language_info": {
   "codemirror_mode": {
    "name": "ipython",
    "version": 3
   },
   "file_extension": ".py",
   "mimetype": "text/x-python",
   "name": "python",
   "nbconvert_exporter": "python",
   "pygments_lexer": "ipython3",
   "version": "3.8.6"
  },
  "toc": {
   "base_numbering": 1,
   "nav_menu": {},
   "number_sections": true,
   "sideBar": true,
   "skip_h1_title": false,
   "title_cell": "Table of Contents",
   "title_sidebar": "Contents",
   "toc_cell": false,
   "toc_position": {},
   "toc_section_display": true,
   "toc_window_display": false
  }
 },
 "nbformat": 4,
 "nbformat_minor": 5
}
